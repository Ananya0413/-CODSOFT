{
  "nbformat": 4,
  "nbformat_minor": 0,
  "metadata": {
    "colab": {
      "provenance": [],
      "authorship_tag": "ABX9TyMP5zfXNkhe7XctarZfdOpI",
      "include_colab_link": true
    },
    "kernelspec": {
      "name": "python3",
      "display_name": "Python 3"
    },
    "language_info": {
      "name": "python"
    }
  },
  "cells": [
    {
      "cell_type": "markdown",
      "metadata": {
        "id": "view-in-github",
        "colab_type": "text"
      },
      "source": [
        "<a href=\"https://colab.research.google.com/github/Ananya0413/-CODSOFT/blob/main/_CODSOFT.ipynb\" target=\"_parent\"><img src=\"https://colab.research.google.com/assets/colab-badge.svg\" alt=\"Open In Colab\"/></a>"
      ]
    },
    {
      "cell_type": "markdown",
      "source": [
        "# TASK1\n",
        "A To-Do List application is a useful project that helps users manage\n",
        "and organize their tasks efficiently. This project aims to create a\n",
        "command-line or GUI-based application using Python"
      ],
      "metadata": {
        "id": "LZTrkbVMpqil"
      }
    },
    {
      "cell_type": "code",
      "source": [
        "class ToDoList:\n",
        "    def __init__(self):\n",
        "        self.tasks = []\n",
        "\n",
        "    def add_task(self, task):\n",
        "        self.tasks.append({'task': task, 'completed': False})\n",
        "\n",
        "    def complete_task(self, index):\n",
        "        if 0 <= index < len(self.tasks):\n",
        "            self.tasks[index]['completed'] = True\n",
        "        else:\n",
        "            print(\"Invalid task number.\")\n",
        "\n",
        "    def delete_task(self, index):\n",
        "        if 0 <= index < len(self.tasks):\n",
        "            del self.tasks[index]\n",
        "        else:\n",
        "            print(\"Invalid task number.\")\n",
        "\n",
        "    def show_tasks(self):\n",
        "        if not self.tasks:\n",
        "            print(\"No tasks in the list.\")\n",
        "        for i, task in enumerate(self.tasks):\n",
        "            status = \"Done\" if task['completed'] else \"Not done\"\n",
        "            print(f\"{i + 1}. {task['task']} - {status}\")\n",
        "\n",
        "if __name__ == \"__main__\":\n",
        "    todo_list = ToDoList()\n",
        "\n",
        "    while True:\n",
        "        print(\"\\nTo-Do List Menu:\")\n",
        "        print(\"1. Add task\")\n",
        "        print(\"2. Complete task\")\n",
        "        print(\"3. Delete task\")\n",
        "        print(\"4. Show tasks\")\n",
        "        print(\"5. Exit\")\n",
        "        choice = input(\"Choose an option: \")\n",
        "\n",
        "        if choice == '1':\n",
        "            task = input(\"Enter the task: \")\n",
        "            todo_list.add_task(task)\n",
        "        elif choice == '2':\n",
        "            index = int(input(\"Enter the task number to complete: \")) - 1\n",
        "            todo_list.complete_task(index)\n",
        "        elif choice == '3':\n",
        "            index = int(input(\"Enter the task number to delete: \")) - 1\n",
        "            todo_list.delete_task(index)\n",
        "        elif choice == '4':\n",
        "            todo_list.show_tasks()\n",
        "        elif choice == '5':\n",
        "            break\n",
        "        else:\n",
        "            print(\"Invalid choice. Please try again.\")\n",
        "\n"
      ],
      "metadata": {
        "colab": {
          "base_uri": "https://localhost:8080/"
        },
        "id": "P6h1hNRLjxWo",
        "outputId": "ce05c63d-01ad-42cb-8fb9-94e7c81bdd43"
      },
      "execution_count": null,
      "outputs": [
        {
          "output_type": "stream",
          "name": "stdout",
          "text": [
            "\n",
            "To-Do List Menu:\n",
            "1. Add task\n",
            "2. Complete task\n",
            "3. Delete task\n",
            "4. Show tasks\n",
            "5. Exit\n",
            "Choose an option: 1\n",
            "Enter the task: GO SHOPPING\n",
            "\n",
            "To-Do List Menu:\n",
            "1. Add task\n",
            "2. Complete task\n",
            "3. Delete task\n",
            "4. Show tasks\n",
            "5. Exit\n"
          ]
        }
      ]
    }
  ]
}