{
  "nbformat": 4,
  "nbformat_minor": 0,
  "metadata": {
    "colab": {
      "provenance": [],
      "authorship_tag": "ABX9TyNhppjz6aCNyRiAm9rDjMrU",
      "include_colab_link": true
    },
    "kernelspec": {
      "name": "python3",
      "display_name": "Python 3"
    },
    "language_info": {
      "name": "python"
    }
  },
  "cells": [
    {
      "cell_type": "markdown",
      "metadata": {
        "id": "view-in-github",
        "colab_type": "text"
      },
      "source": [
        "<a href=\"https://colab.research.google.com/github/Ananya0413/-CODSOFT/blob/main/Untitled2.ipynb\" target=\"_parent\"><img src=\"https://colab.research.google.com/assets/colab-badge.svg\" alt=\"Open In Colab\"/></a>"
      ]
    },
    {
      "cell_type": "markdown",
      "source": [
        "# TASK 2\n",
        "Design a simple calculator with basic arithmetic operations.\n",
        "Prompt the user to input two numbers and an operation choice.\n",
        "\n",
        "Perform the calculation and display the result."
      ],
      "metadata": {
        "id": "dfM8f--tsu6v"
      }
    },
    {
      "cell_type": "code",
      "source": [
        "def add(x, y):\n",
        "    return x + y\n",
        "\n",
        "def subtract(x, y):\n",
        "    return x - y\n",
        "\n",
        "def multiply(x, y):\n",
        "    return x * y\n",
        "\n",
        "def divide(x, y):\n",
        "    if y != 0:\n",
        "        return x / y\n",
        "    else:\n",
        "        return \"Error! Division by zero.\"\n",
        "\n",
        "def calculator():\n",
        "    print(\"Simple Calculator\")\n",
        "    print(\"Enter 'quit' to exit at any time.\")\n",
        "    while True:\n",
        "        operation = input(\"Choose an operation (+, -, *, /): \")\n",
        "\n",
        "        if operation == 'quit':\n",
        "            print(\"Exiting the calculator. Goodbye!\")\n",
        "            break\n",
        "\n",
        "        if operation in ['+', '-', '*', '/']:\n",
        "            try:\n",
        "                num1 = float(input(\"Enter first number: \"))\n",
        "                num2 = float(input(\"Enter second number: \"))\n",
        "            except ValueError:\n",
        "                print(\"Invalid input. Please enter numeric values.\")\n",
        "                continue\n",
        "\n",
        "            if operation == '+':\n",
        "                print(f\"The result is: {add(num1, num2)}\")\n",
        "            elif operation == '-':\n",
        "                print(f\"The result is: {subtract(num1, num2)}\")\n",
        "            elif operation == '*':\n",
        "                print(f\"The result is: {multiply(num1, num2)}\")\n",
        "            elif operation == '/':\n",
        "                print(f\"The result is: {divide(num1, num2)}\")\n",
        "        else:\n",
        "            print(\"Invalid operation. Please choose a valid operation (+, -, *, /).\")\n",
        "\n",
        "if __name__ == \"__main__\":\n",
        "    calculator()\n"
      ],
      "metadata": {
        "colab": {
          "base_uri": "https://localhost:8080/"
        },
        "id": "VO1rYk87s09d",
        "outputId": "58500703-7c26-4701-bf83-54d1360dc381"
      },
      "execution_count": null,
      "outputs": [
        {
          "output_type": "stream",
          "name": "stdout",
          "text": [
            "Simple Calculator\n",
            "Enter 'quit' to exit at any time.\n",
            "Choose an operation (+, -, *, /): 1\n",
            "Invalid operation. Please choose a valid operation (+, -, *, /).\n",
            "Choose an operation (+, -, *, /): +\n",
            "Enter first number: 1\n",
            "Enter second number: 5\n",
            "The result is: 6.0\n"
          ]
        }
      ]
    }
  ]
}